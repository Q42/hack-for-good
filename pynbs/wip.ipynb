{
 "cells": [
  {
   "cell_type": "code",
   "execution_count": null,
   "metadata": {},
   "outputs": [],
   "source": [
    "import json\n",
    "import requests\n",
    "from dateutil.parser import parse\n",
    "\n",
    "import datetime as datetime"
   ]
  },
  {
   "cell_type": "markdown",
   "metadata": {},
   "source": [
    "Using the Luchtmeetnet API: https://api-docs.luchtmeetnet.nl/#intro"
   ]
  },
  {
   "cell_type": "markdown",
   "metadata": {},
   "source": [
    "## Over data\n",
    "\n",
    "### NO2\n",
    "De hoogste concentraties stikstofdioxide (NO2) komen voor tijdens de ochtend- en avondspits. Deze stof komt vrij door het (weg)verkeer, energieproductie en industrie. Daarnaast ontstaat NO2 uit een reactie tussen stikstofmonoxide en ozon. Het weer en de verkeersdrukte hebben grote invloed op de concentratie. De wettelijke norm is een jaargemiddelde van 40 (μg/m3)\n",
    "* Slecht: > 80 (y tot 100)\n",
    "* Matig: 30 - 80\n",
    "* Goed: < 30\n",
    "\n",
    "Unit: Concentraties in µg/m³, UFP in aantal/cm³.\n",
    "\n",
    "### NO\n",
    "De concentratie stikstofmonoxide (NO) is rond de ochtend- en avondspits hoger. Deze stof komt vrij bij het verbranden van brandstof door auto's, cv-installaties, de industrie en elektriciteitscentrales. Eenmaal in de lucht vindt er een chemisch proces plaats. stikstofmonoxide wordt dan omgezet in stikstofdioxide. Voor stikstofmonoxide bestaan geen wettelijke normen.\n",
    "* Goed: < 50\n",
    "* Matig: > 50 (y tot 100) \n",
    "\n",
    "Unit: Concentraties in µg/m³, UFP in aantal/cm³.\n",
    "\n",
    "### O3\n",
    "Ozon wordt niet rechtstreeks uitgestoten, maar wordt gevormd uit stikstofoxiden, vluchtige organische stoffen en koolmonoxide. De concentratie ozon (O3) is vooral afhankelijk van het weer. In heel Europa wordt de bevolking gewaarschuwd bij ozonconcentraties boven 180 (μg/m3). Een concentratie van 240 (μg/m3) is de Europese alarmdrempel.\n",
    "* Goed: 0 - 40\n",
    "* Matig: > 40 (y tot 100)\n",
    "\n",
    "Unit: Concentraties in µg/m³, UFP in aantal/cm³.\n",
    "\n",
    "### PM10\n",
    "De dagelijkse concentratie fijn stof (PM10) is afhankelijk van het weer. In de steden zijn de concentraties overdag gemiddeld iets hoger dan 's nachts, vooral door de verkeersbijdrage. PM10 is een verzamelnaam voor zwevende, inhaleerbare deeltjes met een maximale doorsnede van 0,01 milimeter. De wettelijke norm is een jaargemiddelde van 40 (μg/m3). Daarnaast mag het daggemiddelde jaarlijks maximaal 35 keer hoger zijn dan 50 (μg/m3). \n",
    "* Goed: < 30\n",
    "* Matig: 30 - 70\n",
    "* Slecht: > 70\n",
    "\n",
    "Unit: Concentraties in µg/m³, UFP in aantal/cm³.\n",
    "\n",
    "### PM2.5\n",
    "De dagelijkse concentratie fijn stof (PM2.5) is afhankelijk van het weer. In de steden zijn de concentraties overdag gemiddeld iets hoger dan ’s nachts, vooral door de verkeersbijdrage. PM2.5 is een verzamelnaam voor zwevende, inhaleerbare deeltjes met een maximale doorsnede van 0,0025 millimeter. De wettelijke norm is een jaargemiddelde van 25 (μg/m3). Doordat PM2.5 nog kleiner is dan PM10 kunnen deze deeltjes dieper doordringen in de longen en zijn ze schadelijker voor de gezondheid.\n",
    "\n",
    "PM2.5 apparatuur is gevoelig voor condensvorming. Bij hoge buitentemperaturen is de kans op condensvorming groter. De meetapparatuur keurt een meting automatisch af wanneer condensvorming verwacht wordt. Volgens de automatische instellingen in de meetapparatuur wordt condensvorming verwacht wanneer het verschil tussen de buitenluchttemperatuur en temperatuur in het meetinstrument klein is. Bij hoge buitenluchttemperaturen is de kans groot dat het temperatuurverschil klein is en de metingen automatisch worden afgekeurd. Als gevolg hiervan ontbreken PM2.5 metingen soms als de buitentemperatuur hoog is. Indien later bij controle door de meetnetbeheerder blijkt dat een meting toch correct heeft plaatsgevonden worden metingen alsnog goedgekeurd.\n",
    "* Goed: < 20\n",
    "* Matig: 20 - 50\n",
    "* Slecht: > 50\n",
    "\n",
    "Unit: Concentraties in µg/m³, UFP in aantal/cm³."
   ]
  },
  {
   "cell_type": "code",
   "execution_count": null,
   "metadata": {},
   "outputs": [],
   "source": [
    "# check: thresholds & good / mediocre / bad\n",
    "# check: yesterday\n",
    "# check: yesterday, past hour / week / month / season (?) / year"
   ]
  },
  {
   "cell_type": "code",
   "execution_count": null,
   "metadata": {},
   "outputs": [],
   "source": [
    "response = requests.get(f\"https://api.luchtmeetnet.nl/open_api/stations/NL10404/measurements?formula=PM25\") \n",
    "result_json = response.json()"
   ]
  },
  {
   "cell_type": "code",
   "execution_count": null,
   "metadata": {},
   "outputs": [],
   "source": [
    "d = response.json()['data'][0]"
   ]
  },
  {
   "cell_type": "code",
   "execution_count": null,
   "metadata": {},
   "outputs": [],
   "source": [
    "class Metric:\n",
    "    \n",
    "    ub_bad = float('inf') # why not?\n",
    "    \n",
    "    def __repr__(self):\n",
    "        return f\"{self.formula}-object\"\n",
    "    \n",
    "    def __init__(self, formula, ub_good=None, ub_med=None, ub_bad=None):    \n",
    "        self.formula = formula\n",
    "        \n",
    "        if ub_good:\n",
    "            self.ub_good = ub_good\n",
    "        if ub_med:\n",
    "            self.ub_med = ub_med\n",
    "        if ub_bad: \n",
    "            self.ub_bad = ub_bad\n",
    "            \n",
    "    def judgement(self, value):\n",
    "        if value <= self.ub_good:\n",
    "            return \"GOOD\"\n",
    "        elif value <= self.ub_med:\n",
    "            return \"MEDIOCRE\"\n",
    "        elif value <= self.ub_bad:\n",
    "            return \"BAD\"\n",
    "        else:\n",
    "            return f\"PANIC - {value}\"\n",
    "    "
   ]
  },
  {
   "cell_type": "code",
   "execution_count": null,
   "metadata": {},
   "outputs": [],
   "source": [
    "# TODO add to metric\n",
    "metrics = dict()\n",
    "metrics['NO2'] = Metric('NO2', ub_good=30, ub_med=80, ub_bad=100)\n",
    "metrics['NO'] = Metric('NO', ub_good=30, ub_med=100)\n",
    "metrics['O3'] = Metric('O3', ub_good=40, ub_med=180)\n",
    "metrics['PM10'] = Metric('PM10', ub_good=30, ub_med=70, ub_bad=100)\n",
    "metrics['PM25'] = Metric('PM25', ub_good=20, ub_med=50, ub_bad=100)"
   ]
  },
  {
   "cell_type": "code",
   "execution_count": null,
   "metadata": {},
   "outputs": [],
   "source": [
    "class API:\n",
    "    url = f\"https://api.luchtmeetnet.nl/open_api/measurements\"\n",
    "    \n",
    "    def get(self, station=None, start=None, end=None, metric=None):\n",
    "        request_url = self.url\n",
    "        \n",
    "        # blegh - query string params\n",
    "        # TODO something with station\n",
    "        qsp_to_add = [\"station_number=NL10404\"]\n",
    "        \n",
    "        if start and end:\n",
    "            qsp_to_add.append(f\"start={start}\")\n",
    "            qsp_to_add.append(f\"end={end}\")\n",
    "        if metric:\n",
    "            qsp_to_add.append(f\"formula={metric.formula}\")\n",
    "            \n",
    "        if len(qsp_to_add) > 0:\n",
    "            stuff = \"&\".join(qsp_to_add)\n",
    "            request_url += f\"?{stuff}\" \n",
    "        \n",
    "        print(request_url)\n",
    "        response = requests.get(request_url) \n",
    "        if response.status_code != 200:\n",
    "            print(f\"PANIC - {response.status_code} on {request_url}\")\n",
    "        else:\n",
    "            response_json = response.json()\n",
    "            \n",
    "        if 'pagination' in response_json:\n",
    "            current_page = response_json['pagination']['current_page']\n",
    "            last_page = response_json['pagination']['last_page']\n",
    "            if current_page != last_page:\n",
    "                print(\"TODO - pagination needed\")\n",
    "        \n",
    "        # TODO go through data, create measurements\n",
    "        return response_json"
   ]
  },
  {
   "cell_type": "code",
   "execution_count": null,
   "metadata": {},
   "outputs": [],
   "source": [
    "class Measurement:\n",
    "\n",
    "    def __repr__(self):\n",
    "        return f\"{self.metric.formula}, {self.value}\"\n",
    "    \n",
    "    def __init__(self, formula, value, timestamp):\n",
    "        self.metric = metrics[formula]\n",
    "        self.value = float(value) # better safe than sorry\n",
    "        self.timestamp = parse(timestamp)\n",
    "        \n",
    "    def evaluate(self):\n",
    "        judgement = self.metric.judgement(self.value)\n",
    "        print(judgement)\n",
    "        return True\n",
    "    \n",
    "    def compare(self, other_measurement):\n",
    "        diff = self.value - other_measurement.value\n",
    "        print(f\"value diff {diff}\")\n"
   ]
  },
  {
   "cell_type": "code",
   "execution_count": null,
   "metadata": {},
   "outputs": [],
   "source": [
    "m = Measurement(d['formula'], d['value'], d['timestamp_measured'])"
   ]
  },
  {
   "cell_type": "code",
   "execution_count": null,
   "metadata": {},
   "outputs": [],
   "source": [
    "one_day = datetime.timedelta(days=1)\n",
    "yesterday = m.timestamp - one_day\n",
    "time_string = yesterday.isoformat()\n",
    "api = API() # dit doet dus precies niks, maar so be it\n",
    "yesterdays_measurement = api.get(start=time_string, end=time_string, metric=m.metric)\n",
    "ym = yesterdays_measurement['data'][0] #TODO\n",
    "new_m = Measurement(ym['formula'], ym['value'], ym['timestamp_measured'])"
   ]
  },
  {
   "cell_type": "code",
   "execution_count": null,
   "metadata": {},
   "outputs": [],
   "source": [
    "m.compare(new_m)"
   ]
  },
  {
   "cell_type": "code",
   "execution_count": null,
   "metadata": {},
   "outputs": [],
   "source": [
    "new_m.value, m.value"
   ]
  },
  {
   "cell_type": "code",
   "execution_count": null,
   "metadata": {},
   "outputs": [],
   "source": []
  }
 ],
 "metadata": {
  "kernelspec": {
   "display_name": "Python 3",
   "language": "python",
   "name": "python3"
  },
  "language_info": {
   "codemirror_mode": {
    "name": "ipython",
    "version": 3
   },
   "file_extension": ".py",
   "mimetype": "text/x-python",
   "name": "python",
   "nbconvert_exporter": "python",
   "pygments_lexer": "ipython3",
   "version": "3.8.6"
  }
 },
 "nbformat": 4,
 "nbformat_minor": 4
}
