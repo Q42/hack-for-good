{
 "cells": [
  {
   "cell_type": "code",
   "execution_count": 143,
   "metadata": {},
   "outputs": [],
   "source": [
    "import json\n",
    "import requests\n",
    "from dateutil.parser import parse"
   ]
  },
  {
   "cell_type": "markdown",
   "metadata": {},
   "source": [
    "Using the Luchtmeetnet API: https://api-docs.luchtmeetnet.nl/#intro"
   ]
  },
  {
   "cell_type": "code",
   "execution_count": 63,
   "metadata": {},
   "outputs": [],
   "source": [
    "url = \"https://api.luchtmeetnet.nl/open_api/\"\n",
    "station = \"NL10404\" #Anouk's favorite station"
   ]
  },
  {
   "cell_type": "code",
   "execution_count": 55,
   "metadata": {},
   "outputs": [],
   "source": [
    "response = requests.get(f\"{url}stations/{station}/measurements?page=5500\") "
   ]
  },
  {
   "cell_type": "code",
   "execution_count": 56,
   "metadata": {},
   "outputs": [],
   "source": [
    "response_json = response.json()"
   ]
  },
  {
   "cell_type": "code",
   "execution_count": 57,
   "metadata": {},
   "outputs": [
    {
     "ename": "KeyError",
     "evalue": "'pagination'",
     "output_type": "error",
     "traceback": [
      "\u001b[0;31m---------------------------------------------------------------------------\u001b[0m",
      "\u001b[0;31mKeyError\u001b[0m                                  Traceback (most recent call last)",
      "\u001b[0;32m<ipython-input-57-66471f8c08c3>\u001b[0m in \u001b[0;36m<module>\u001b[0;34m\u001b[0m\n\u001b[0;32m----> 1\u001b[0;31m \u001b[0;34m'next_page'\u001b[0m \u001b[0;32min\u001b[0m \u001b[0mresponse_json\u001b[0m\u001b[0;34m[\u001b[0m\u001b[0;34m'pagination'\u001b[0m\u001b[0;34m]\u001b[0m\u001b[0;34m\u001b[0m\u001b[0;34m\u001b[0m\u001b[0m\n\u001b[0m",
      "\u001b[0;31mKeyError\u001b[0m: 'pagination'"
     ]
    }
   ],
   "source": [
    "'next_page' in response_json['pagination']"
   ]
  },
  {
   "cell_type": "code",
   "execution_count": 58,
   "metadata": {},
   "outputs": [
    {
     "data": {
      "text/plain": [
       "{'message': 'Endpoint request timed out'}"
      ]
     },
     "execution_count": 58,
     "metadata": {},
     "output_type": "execute_result"
    }
   ],
   "source": [
    "response_json"
   ]
  },
  {
   "cell_type": "code",
   "execution_count": 59,
   "metadata": {},
   "outputs": [
    {
     "name": "stdout",
     "output_type": "stream",
     "text": [
      "https://api.luchtmeetnet.nl/open_api/stations/NL10404/measurements?page=5500\n"
     ]
    }
   ],
   "source": [
    "print(f\"{url}stations/{station}/measurements?page=5500\")"
   ]
  },
  {
   "cell_type": "code",
   "execution_count": 60,
   "metadata": {},
   "outputs": [],
   "source": [
    "response = requests.get(f\"{url}stations/{station}\") "
   ]
  },
  {
   "cell_type": "code",
   "execution_count": 61,
   "metadata": {},
   "outputs": [
    {
     "data": {
      "text/plain": [
       "{'data': {'type': 'Municipal',\n",
       "  'components': ['NO', 'NO2', 'O3', 'PM10', 'PM25'],\n",
       "  'geometry': {'type': 'point', 'coordinates': [4.289185, 52.077148]},\n",
       "  'municipality': \"'s-Gravenhage\",\n",
       "  'url': '',\n",
       "  'province': None,\n",
       "  'organisation': 'RIVM',\n",
       "  'location': 'Den Haag-Rebecquestraat',\n",
       "  'year_start': '',\n",
       "  'description': {'NL': 'Den Haag-Rebecquestraat',\n",
       "   'EN': 'Den Haag-Rebecquestraat'}}}"
      ]
     },
     "execution_count": 61,
     "metadata": {},
     "output_type": "execute_result"
    }
   ],
   "source": [
    "response.json()"
   ]
  },
  {
   "cell_type": "markdown",
   "metadata": {},
   "source": [
    "## Over data\n",
    "\n",
    "### NO2\n",
    "De hoogste concentraties stikstofdioxide (NO2) komen voor tijdens de ochtend- en avondspits. Deze stof komt vrij door het (weg)verkeer, energieproductie en industrie. Daarnaast ontstaat NO2 uit een reactie tussen stikstofmonoxide en ozon. Het weer en de verkeersdrukte hebben grote invloed op de concentratie. De wettelijke norm is een jaargemiddelde van 40 (μg/m3)\n",
    "* Slecht: > 80 (y tot 100)\n",
    "* Matig: 30 - 80\n",
    "* Goed: < 30\n",
    "\n",
    "Unit: Concentraties in µg/m³, UFP in aantal/cm³.\n",
    "\n",
    "### NO\n",
    "De concentratie stikstofmonoxide (NO) is rond de ochtend- en avondspits hoger. Deze stof komt vrij bij het verbranden van brandstof door auto's, cv-installaties, de industrie en elektriciteitscentrales. Eenmaal in de lucht vindt er een chemisch proces plaats. stikstofmonoxide wordt dan omgezet in stikstofdioxide. Voor stikstofmonoxide bestaan geen wettelijke normen.\n",
    "* Goed: < 50\n",
    "* Matig: > 50 (y tot 100) \n",
    "\n",
    "Unit: Concentraties in µg/m³, UFP in aantal/cm³.\n",
    "\n",
    "### O3\n",
    "Ozon wordt niet rechtstreeks uitgestoten, maar wordt gevormd uit stikstofoxiden, vluchtige organische stoffen en koolmonoxide. De concentratie ozon (O3) is vooral afhankelijk van het weer. In heel Europa wordt de bevolking gewaarschuwd bij ozonconcentraties boven 180 (μg/m3). Een concentratie van 240 (μg/m3) is de Europese alarmdrempel.\n",
    "* Goed: 0 - 40\n",
    "* Matig: > 40 (y tot 100)\n",
    "\n",
    "Unit: Concentraties in µg/m³, UFP in aantal/cm³.\n",
    "\n",
    "### PM10\n",
    "De dagelijkse concentratie fijn stof (PM10) is afhankelijk van het weer. In de steden zijn de concentraties overdag gemiddeld iets hoger dan 's nachts, vooral door de verkeersbijdrage. PM10 is een verzamelnaam voor zwevende, inhaleerbare deeltjes met een maximale doorsnede van 0,01 milimeter. De wettelijke norm is een jaargemiddelde van 40 (μg/m3). Daarnaast mag het daggemiddelde jaarlijks maximaal 35 keer hoger zijn dan 50 (μg/m3). \n",
    "* Goed: < 30\n",
    "* Matig: 30 - 70\n",
    "* Slecht: > 70\n",
    "\n",
    "Unit: Concentraties in µg/m³, UFP in aantal/cm³.\n",
    "\n",
    "### PM2.5\n",
    "De dagelijkse concentratie fijn stof (PM2.5) is afhankelijk van het weer. In de steden zijn de concentraties overdag gemiddeld iets hoger dan ’s nachts, vooral door de verkeersbijdrage. PM2.5 is een verzamelnaam voor zwevende, inhaleerbare deeltjes met een maximale doorsnede van 0,0025 millimeter. De wettelijke norm is een jaargemiddelde van 25 (μg/m3). Doordat PM2.5 nog kleiner is dan PM10 kunnen deze deeltjes dieper doordringen in de longen en zijn ze schadelijker voor de gezondheid.\n",
    "\n",
    "PM2.5 apparatuur is gevoelig voor condensvorming. Bij hoge buitentemperaturen is de kans op condensvorming groter. De meetapparatuur keurt een meting automatisch af wanneer condensvorming verwacht wordt. Volgens de automatische instellingen in de meetapparatuur wordt condensvorming verwacht wanneer het verschil tussen de buitenluchttemperatuur en temperatuur in het meetinstrument klein is. Bij hoge buitenluchttemperaturen is de kans groot dat het temperatuurverschil klein is en de metingen automatisch worden afgekeurd. Als gevolg hiervan ontbreken PM2.5 metingen soms als de buitentemperatuur hoog is. Indien later bij controle door de meetnetbeheerder blijkt dat een meting toch correct heeft plaatsgevonden worden metingen alsnog goedgekeurd.\n",
    "* Goed: < 20\n",
    "* Matig: 20 - 50\n",
    "* Slecht: > 50\n",
    "\n",
    "Unit: Concentraties in µg/m³, UFP in aantal/cm³."
   ]
  },
  {
   "cell_type": "code",
   "execution_count": null,
   "metadata": {},
   "outputs": [],
   "source": [
    "# check: thresholds & good / mediocre / bad\n",
    "# check: yesterday\n",
    "# check: yesterday, past hour / week / month / season (?) / year"
   ]
  },
  {
   "cell_type": "code",
   "execution_count": 71,
   "metadata": {},
   "outputs": [],
   "source": [
    "response = requests.get(f\"https://api.luchtmeetnet.nl/open_api/stations/NL10404/measurements?formula=PM25\") \n",
    "result_json = response.json()"
   ]
  },
  {
   "cell_type": "code",
   "execution_count": 82,
   "metadata": {},
   "outputs": [],
   "source": [
    "ts = result_json['data'][0]['timestamp_measured']\n",
    "dt = parse(ts)"
   ]
  },
  {
   "cell_type": "code",
   "execution_count": 84,
   "metadata": {},
   "outputs": [
    {
     "data": {
      "text/plain": [
       "50"
      ]
     },
     "execution_count": 84,
     "metadata": {},
     "output_type": "execute_result"
    }
   ],
   "source": [
    "len(result_json['data'])"
   ]
  },
  {
   "cell_type": "code",
   "execution_count": 179,
   "metadata": {},
   "outputs": [],
   "source": [
    "d = response.json()['data'][0]"
   ]
  },
  {
   "cell_type": "code",
   "execution_count": 209,
   "metadata": {},
   "outputs": [],
   "source": [
    "class Metric:\n",
    "    \n",
    "    ub_bad = float('inf') # why not?\n",
    "    \n",
    "    def __repr__(self):\n",
    "        return f\"{self.formula}-object\"\n",
    "    \n",
    "    def __init__(self, formula, ub_good=None, ub_med=None, ub_bad=None):    \n",
    "        self.formula = formula\n",
    "        \n",
    "        if ub_good:\n",
    "            self.ub_good = ub_good\n",
    "        if ub_med:\n",
    "            self.ub_med = ub_med\n",
    "        if ub_bad: \n",
    "            self.ub_bad = ub_bad\n",
    "            \n",
    "    def judgement(self, value):\n",
    "        if value <= self.ub_good:\n",
    "            return \"GOOD\"\n",
    "        elif value <= self.ub_med:\n",
    "            return \"MEDIOCRE\"\n",
    "        elif value <= self.ub_bad:\n",
    "            return \"BAD\"\n",
    "        else:\n",
    "            return f\"PANIC - {value}\"\n",
    "    "
   ]
  },
  {
   "cell_type": "code",
   "execution_count": 210,
   "metadata": {},
   "outputs": [],
   "source": [
    "metrics = dict()\n",
    "metrics['NO2'] = Metric('NO2', ub_good=30, ub_med=80, ub_bad=100)\n",
    "metrics['NO'] = Metric('NO', ub_good=30, ub_med=100)\n",
    "metrics['O3'] = Metric('O3', ub_good=40, ub_med=180)\n",
    "metrics['PM10'] = Metric('PM10', ub_good=30, ub_med=70, ub_bad=100)\n",
    "metrics['PM25'] = Metric('PM250', ub_good=20, ub_med=50, ub_bad=100)"
   ]
  },
  {
   "cell_type": "code",
   "execution_count": 249,
   "metadata": {},
   "outputs": [],
   "source": [
    "class Measurement:\n",
    "\n",
    "    def __repr__(self):\n",
    "        return f\"{self.metric.formula}, {self.value}\"\n",
    "    \n",
    "    def __init__(self, formula, value, timestamp):\n",
    "        self.metric = metrics[formula]\n",
    "        self.value = float(value) # better safe than sorry\n",
    "        self.timestamp = parse(ts)\n",
    "        \n",
    "    def evaluate(self):\n",
    "        judgement = self.metric.judgement(self.value)\n",
    "        print(judgement)\n",
    "        return True"
   ]
  },
  {
   "cell_type": "code",
   "execution_count": 250,
   "metadata": {},
   "outputs": [],
   "source": [
    "m = Measurement(d['formula'], d['value'], d['timestamp_measured'])"
   ]
  },
  {
   "cell_type": "code",
   "execution_count": 251,
   "metadata": {},
   "outputs": [
    {
     "name": "stdout",
     "output_type": "stream",
     "text": [
      "BAD\n"
     ]
    },
    {
     "data": {
      "text/plain": [
       "True"
      ]
     },
     "execution_count": 251,
     "metadata": {},
     "output_type": "execute_result"
    }
   ],
   "source": [
    "m.evaluate()"
   ]
  },
  {
   "cell_type": "code",
   "execution_count": 252,
   "metadata": {},
   "outputs": [
    {
     "data": {
      "text/plain": [
       "datetime.datetime(2020, 11, 27, 18, 0, tzinfo=tzutc())"
      ]
     },
     "execution_count": 252,
     "metadata": {},
     "output_type": "execute_result"
    }
   ],
   "source": [
    "m.timestamp"
   ]
  },
  {
   "cell_type": "code",
   "execution_count": null,
   "metadata": {},
   "outputs": [],
   "source": []
  }
 ],
 "metadata": {
  "kernelspec": {
   "display_name": "Python 3",
   "language": "python",
   "name": "python3"
  },
  "language_info": {
   "codemirror_mode": {
    "name": "ipython",
    "version": 3
   },
   "file_extension": ".py",
   "mimetype": "text/x-python",
   "name": "python",
   "nbconvert_exporter": "python",
   "pygments_lexer": "ipython3",
   "version": "3.8.6"
  }
 },
 "nbformat": 4,
 "nbformat_minor": 4
}
